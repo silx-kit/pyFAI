{
 "cells": [
  {
   "cell_type": "markdown",
   "id": "satisfied-treasurer",
   "metadata": {},
   "source": [
    "# Fitting wavelength with multiple sample-detector distances\n",
    "\n",
    "Wavelength and detector distance are correlated parameters when fitting the geometry using a single detector position. One should fix either one, or the other.\n",
    "The simultaneous fitting of several images taken at various detector distances has proven to alleviate this limitation (https://doi.org/10.1107/S1600577519013328).\n",
    "\n",
    "This tutorial explains how to perform a multi-position geometry refinement, this within pyFAI using a notebook. \n",
    "\n",
    "The dataset was recorded at the DanMAX beamline at MaxIV (Lund, Sweden) and made available by Mads Ry Jørgensen. It represents LaB6 reference material collected at 20keV at with a Pilatus detector at various distances from the sample.\n",
    "\n",
    "## Loading data\n",
    "\n",
    "All the data are stored into a single HDF5 file following the Nexus convention. This file has been reprocessed and differs from what is acquired at the DanMAX beamline."
   ]
  },
  {
   "cell_type": "code",
   "execution_count": null,
   "id": "confused-albert",
   "metadata": {},
   "outputs": [],
   "source": [
    "%matplotlib inline\n",
    "#For documentation purpose, `inline` is used to enforce the storage of images into the notebook\n",
    "# %matplotlib widget\n",
    "import numpy\n",
    "from matplotlib.pyplot import subplots\n",
    "from pyFAI.goniometer import (GeometryTransformation, ExtendedTransformation,\n",
    "                              GoniometerRefinement, Goniometer)\n",
    "from pyFAI.calibrant import get_calibrant\n",
    "from pyFAI.single_geometry import SingleGeometry\n",
    "import h5py\n",
    "import pyFAI\n",
    "from pyFAI.gui import jupyter\n",
    "import time\n",
    "start_time = time.perf_counter()\n",
    "import logging\n",
    "logging.basicConfig(level=logging.WARNING)\n",
    "print(f\"Running pyFAI version {pyFAI.version}\")"
   ]
  },
  {
   "cell_type": "code",
   "execution_count": null,
   "id": "arbitrary-visitor",
   "metadata": {},
   "outputs": [],
   "source": [
    "#Download data from internet\n",
    "\n",
    "from silx.resources import ExternalResources\n",
    "\n",
    "#Comment out and configure the proxy if you are behind a firewall\n",
    "#os.environ[\"http_proxy\"] = \"http://proxy.company.com:3128\"\n",
    "\n",
    "downloader = ExternalResources(\"pyFAI\", \"http://www.silx.org/pub/pyFAI/gonio/\", \"PYFAI_DATA\")\n",
    "data_file = downloader.getfile(\"LaB6_20keV.h5\")\n",
    "\n",
    "print(\"file downloaded:\", data_file)"
   ]
  },
  {
   "cell_type": "code",
   "execution_count": null,
   "id": "cardiovascular-butler",
   "metadata": {},
   "outputs": [],
   "source": [
    "h5 = h5py.File(data_file)\n",
    "images = h5[\"entry_0000/DanMAX/Pilatus/data\"][()]\n",
    "distances = h5[\"entry_0000/DanMAX/sdd/value\"][()]\n",
    "energy = h5[\"entry_0000/DanMAX/monochromator/energy\"][()]\n",
    "print(\"Distances: \", distances)\n",
    "print(\"Energy:\", energy)\n",
    "LaB6 = get_calibrant(\"LaB6\")\n",
    "wavelength_guess = pyFAI.units.hc/energy*1e-10\n",
    "print(\"Wavelength:\", wavelength_guess)\n",
    "LaB6.wavelength = wavelength_guess"
   ]
  },
  {
   "cell_type": "code",
   "execution_count": null,
   "id": "hazardous-remedy",
   "metadata": {},
   "outputs": [],
   "source": [
    "fig, ax = subplots(2,3, figsize=(18,9))\n",
    "for a,i in zip(ax.ravel(), images):\n",
    "    jupyter.display(i, ax=a)"
   ]
  },
  {
   "cell_type": "code",
   "execution_count": null,
   "id": "after-parks",
   "metadata": {},
   "outputs": [],
   "source": [
    "detector = pyFAI.detector_factory(\"Pilatus2MCdTe\")\n",
    "detector.mask = numpy.min(images, axis=0)<0"
   ]
  },
  {
   "cell_type": "markdown",
   "id": "bulgarian-steal",
   "metadata": {},
   "source": [
    "This dataset is composed of 6 images collected between 150 and 650 mm with a Pilatus 2M CdTe detector. Debye-Scherrer rings are very nicely visible and a fully automated calibration will be performed.\n",
    "\n",
    "## Automatic calibration\n",
    "\n",
    "Since those images are pretty nice, one can read the beam-center position at (x=749, y=1573, ). The tilt and other distortion will be neglected in this first stage. We will now perform the automatic ring extraction"
   ]
  },
  {
   "cell_type": "code",
   "execution_count": null,
   "id": "injured-exhibit",
   "metadata": {},
   "outputs": [],
   "source": [
    "geometries = {}\n",
    "for dist, img  in zip(distances, images):\n",
    "    ai = pyFAI.azimuthalIntegrator.AzimuthalIntegrator(detector=detector, wavelength=wavelength_guess)\n",
    "    ai.setFit2D(dist, 749, 1573)\n",
    "    geo = SingleGeometry(dist, img, metadata=dist, calibrant=LaB6, detector=detector, geometry=ai)\n",
    "    geometries[dist] = geo"
   ]
  },
  {
   "cell_type": "code",
   "execution_count": null,
   "id": "boxed-citizen",
   "metadata": {},
   "outputs": [],
   "source": [
    "# Process the last image, the one with fewer rings: \n",
    "\n",
    "# First extract some control points:\n",
    "geo.control_points  = geo.extract_cp()\n",
    "# Visualization\n",
    "ax = jupyter.display(sg=geo)"
   ]
  },
  {
   "cell_type": "code",
   "execution_count": null,
   "id": "partial-joyce",
   "metadata": {},
   "outputs": [],
   "source": [
    "print(\"Optimization of the geometry ... residual error is:\", geo.geometry_refinement.refine2())\n",
    "print(geo.geometry_refinement)"
   ]
  },
  {
   "cell_type": "code",
   "execution_count": null,
   "id": "alleged-jerusalem",
   "metadata": {},
   "outputs": [],
   "source": [
    "# Extraction of the control points for all geometries:\n",
    "fig, ax = subplots(2,3, figsize=(15, 10))\n",
    "for a, lbl in zip(ax.ravel(), geometries):\n",
    "    geo = geometries[lbl]\n",
    "    geo.control_points  = geo.extract_cp()\n",
    "#     print(geo.control_points)\n",
    "    print(f\"Optimization of the geometry {lbl}, residual error is: {geo.geometry_refinement.refine2()}\")\n",
    "    jupyter.display(sg=geo, ax=a)\n",
    "a.get_legend().remove()"
   ]
  },
  {
   "cell_type": "markdown",
   "id": "acute-complex",
   "metadata": {},
   "source": [
    "At this stage, we have 6 images and between 38 and 6 rings per image which is enough to start calibrating them all-together.\n",
    "\n",
    "## Sample stage setup\n",
    "\n",
    "We will optimize the energy in addition to all other parameters except the rotation along the beam (rot3).\n",
    "\n",
    "* `dist0` represents the offset of the sample-detector stage. The associated `scale0` is expected to be 1e-3 to convert milimeters in meters.\n",
    "* `poni1` represents the vertical position of the center and the associated `scale1` is expected to be null.\n",
    "* `poni2` represents the horizontal position of the center and the associated `scale2` is expected to be null.\n",
    "* All other rotation are expected to be null as well."
   ]
  },
  {
   "cell_type": "code",
   "execution_count": null,
   "id": "extended-cattle",
   "metadata": {},
   "outputs": [],
   "source": [
    "goniotrans = ExtendedTransformation(param_names = [\"dist0\", \"scale0\", \n",
    "                                                   \"poni1\", \"scale1\",\n",
    "                                                   \"poni2\", \"scale2\",\n",
    "                                                   \"rot1\", \"rot2\", \n",
    "                                                   \"energy\"],\n",
    "                                    dist_expr=\"dist0  + pos*scale0\",\n",
    "                                    poni1_expr=\"poni1 + pos*scale1\",\n",
    "                                    poni2_expr=\"poni2 + pos*scale2\",\n",
    "                                    rot1_expr=\"rot1\",\n",
    "                                    rot2_expr=\"rot2\",\n",
    "                                    rot3_expr=\"0\",\n",
    "                                    wavelength_expr=\"hc/energy*1e-10\")\n"
   ]
  },
  {
   "cell_type": "code",
   "execution_count": null,
   "id": "mental-turning",
   "metadata": {},
   "outputs": [],
   "source": [
    "# Starting parameters ...\n",
    "\n",
    "param = {\"dist0\":   0.0,\n",
    "         \"poni1\":  geo.geometry_refinement.poni1,\n",
    "         \"poni2\":  geo.geometry_refinement.poni2,\n",
    "         \"rot1\":   0.0,\n",
    "         \"rot2\":   0.0,\n",
    "         \"scale0\": 0.001,\n",
    "         \"scale1\": 0.0,\n",
    "         \"scale2\": 0.0,\n",
    "         \"energy\": energy,\n",
    "        }"
   ]
  },
  {
   "cell_type": "code",
   "execution_count": null,
   "id": "addressed-adams",
   "metadata": {},
   "outputs": [],
   "source": [
    "#Defines the bounds for some variables\n",
    "bounds = {\"dist0\":  ( -0.1, 0.1),\n",
    "          \"poni1\":  ( 0.0, 0.4),\n",
    "          \"poni2\":  ( 0.0, 0.3),\n",
    "          \"rot1\":   (-1.0, 1.0),\n",
    "          \"rot2\":   (-1.0, 1.0),\n",
    "          \"scale0\": (-1.1, 1.1),\n",
    "          \"scale1\": (-1.1, 1.1),\n",
    "          \"scale2\": (-1.1, 1.1),\n",
    "          \"energy\": (energy-1,energy+1)\n",
    "         }"
   ]
  },
  {
   "cell_type": "code",
   "execution_count": null,
   "id": "gross-import",
   "metadata": {},
   "outputs": [],
   "source": [
    "def distance(param):\n",
    "    \"\"\"Since the label is directly the distance ...\"\"\"\n",
    "    return float(param)\n",
    "assert 152.0 == distance(152)"
   ]
  },
  {
   "cell_type": "code",
   "execution_count": null,
   "id": "proud-height",
   "metadata": {},
   "outputs": [],
   "source": [
    "gonioref = GoniometerRefinement(param,         # Initial guess\n",
    "                                bounds=bounds, # Enforces constrains\n",
    "                                pos_function=distance,\n",
    "                                trans_function=goniotrans,\n",
    "                                detector=detector, \n",
    "                                wavelength=wavelength_guess)\n",
    "print(\"Empty refinement object:\", gonioref)\n",
    "for lbl, geo in geometries.items():\n",
    "    sg = gonioref.new_geometry(str(lbl), image=geo.image, metadata=lbl, control_points=geo.control_points, calibrant=LaB6)\n",
    "    print(lbl, sg.get_position())\n",
    "print(\"Populated refinement object:\", gonioref)"
   ]
  },
  {
   "cell_type": "markdown",
   "id": "contemporary-smith",
   "metadata": {},
   "source": [
    "At this stage, the GoniometerRefinement is fully populated and can directly be optimzied:\n",
    "\n",
    " ## Optimization of all parameters (including the energy)\n",
    " \n",
    "All optimizer available in scipy are exposed in pyFAI, the default one is `slsqp` which takes into account bounds and other constrains. It is very robust but not the most precise. This is why we finish with a `simplex` step (without bounds)."
   ]
  },
  {
   "cell_type": "code",
   "execution_count": null,
   "id": "abstract-technical",
   "metadata": {},
   "outputs": [],
   "source": [
    "print(\"Global cost after refinement:\", gonioref.refine3())"
   ]
  },
  {
   "cell_type": "code",
   "execution_count": null,
   "id": "informed-playback",
   "metadata": {},
   "outputs": [],
   "source": [
    "# The `simplex` provides a refinement without bonds but more percise\n",
    "gonioref.refine3(method=\"simplex\")"
   ]
  },
  {
   "cell_type": "code",
   "execution_count": null,
   "id": "pleased-document",
   "metadata": {},
   "outputs": [],
   "source": [
    "gonioref.save(\"table.json\")"
   ]
  },
  {
   "cell_type": "code",
   "execution_count": null,
   "id": "straight-oriental",
   "metadata": {},
   "outputs": [],
   "source": [
    "print(open(\"table.json\").read())"
   ]
  },
  {
   "cell_type": "code",
   "execution_count": null,
   "id": "diagnostic-appraisal",
   "metadata": {},
   "outputs": [],
   "source": [
    "gonioref.wavelength, gonioref._wavelength, 1e-10*pyFAI.units.hc/gonioref.nt_param(*gonioref.param).energy"
   ]
  },
  {
   "cell_type": "code",
   "execution_count": null,
   "id": "emotional-french",
   "metadata": {},
   "outputs": [],
   "source": [
    "print(\"Ensure calibrant's wavelength has been updated:\")\n",
    "LaB6"
   ]
  },
  {
   "cell_type": "code",
   "execution_count": null,
   "id": "distinct-basics",
   "metadata": {},
   "outputs": [],
   "source": [
    "print(f\"Total execution time: {time.perf_counter()-start_time:.3f}s\")"
   ]
  },
  {
   "cell_type": "markdown",
   "id": "arctic-mason",
   "metadata": {},
   "source": [
    "This method ensures  the wavelength has been updated in all objects important for the calibration.\n",
    "\n",
    "At this stage, calibration has been performed on a set of points extracted automatically. Each individual image should be controled to ensure control points are homogeneously distributed along the ring. If not, those images should see their control-points re-extracted (starting from the latest/best model) and refined again.\n",
    "Basically, this comes down to running cells 8 and after again.\n",
    "\n",
    "## Conclusions\n",
    "\n",
    "* When the dataset is \"clean\", auto-extraction of control points works out of the box \n",
    "* Multi-position calibration to be performed in a minute once the model is known\n",
    "* Energy can be refined with this methodology."
   ]
  }
 ],
 "metadata": {
  "kernelspec": {
   "display_name": "Python 3 (ipykernel)",
   "language": "python",
   "name": "python3"
  },
  "language_info": {
   "codemirror_mode": {
    "name": "ipython",
    "version": 3
   },
   "file_extension": ".py",
   "mimetype": "text/x-python",
   "name": "python",
   "nbconvert_exporter": "python",
   "pygments_lexer": "ipython3",
   "version": "3.10.13"
  }
 },
 "nbformat": 4,
 "nbformat_minor": 5
}
